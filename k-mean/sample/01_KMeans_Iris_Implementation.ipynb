{
 "cells": [
  {
   "cell_type": "markdown",
   "id": "5b9ffa87",
   "metadata": {},
   "source": [
    "### **K-Means Algorithm Implementation**\n",
    "\n",
    "This notebook demonstrates the implementation of the K-Means clustering algorithm using the Iris dataset. We will explore the steps involved, visualize the clusters, and use the Elbow Method to determine the optimal number of clusters."
   ]
  },
  {
   "cell_type": "markdown",
   "id": "fc930fb2",
   "metadata": {},
   "source": [
    "#### **1. Import Libraries**"
   ]
  },
  {
   "cell_type": "code",
   "execution_count": null,
   "id": "d3445510",
   "metadata": {},
   "outputs": [],
   "source": [
    "from sklearn.cluster import KMeans\n",
    "import pandas as pd\n",
    "from matplotlib import pyplot as plt\n",
    "from sklearn.datasets import load_iris"
   ]
  },
  {
   "cell_type": "markdown",
   "id": "605ffad0",
   "metadata": {},
   "source": [
    "#### **2. Load the Iris Dataset**"
   ]
  },
  {
   "cell_type": "code",
   "execution_count": null,
   "id": "fb2c59bb",
   "metadata": {},
   "outputs": [],
   "source": [
    "iris = load_iris()"
   ]
  },
  {
   "cell_type": "markdown",
   "id": "160a4240",
   "metadata": {},
   "source": [
    "#### **3. Create a DataFrame**\n",
    "We load the Iris dataset into a pandas DataFrame for easier manipulation and visualization."
   ]
  },
  {
   "cell_type": "code",
   "execution_count": null,
   "id": "671ca668",
   "metadata": {},
   "outputs": [],
   "source": [
    "df = pd.DataFrame(iris.data, columns=iris.feature_names)\n",
    "df.head()"
   ]
  },
  {
   "cell_type": "markdown",
   "id": "481476bd",
   "metadata": {},
   "source": [
    "#### **4. Add Target Labels (Flower Types)**\n",
    "The target column is added to the DataFrame to compare the actual labels with clusters later."
   ]
  },
  {
   "cell_type": "code",
   "execution_count": null,
   "id": "79d84604",
   "metadata": {},
   "outputs": [],
   "source": [
    "df['flower'] = iris.target\n",
    "df.head()"
   ]
  },
  {
   "cell_type": "markdown",
   "id": "fefab7a4",
   "metadata": {},
   "source": [
    "#### **5. Drop Unnecessary Columns**\n",
    "We will drop some columns (e.g., `sepal length`, `sepal width`, and target label) to focus on clustering based on `petal length` and `petal width`. These features are more discriminative for clustering."
   ]
  },
  {
   "cell_type": "code",
   "execution_count": null,
   "id": "294b946b",
   "metadata": {},
   "outputs": [],
   "source": [
    "df.drop(['sepal length (cm)', 'sepal width (cm)', 'flower'], axis='columns', inplace=True)\n",
    "df.head(3)"
   ]
  },
  {
   "cell_type": "markdown",
   "id": "88a369ed",
   "metadata": {},
   "source": [
    "#### **6. Apply K-Means Clustering**\n",
    "Using the K-Means algorithm, we group the data into 3 clusters and predict cluster assignments."
   ]
  },
  {
   "cell_type": "code",
   "execution_count": null,
   "id": "a1fcd3db",
   "metadata": {},
   "outputs": [],
   "source": [
    "km = KMeans(n_clusters=3)\n",
    "yp = km.fit_predict(df)\n",
    "yp"
   ]
  },
  {
   "cell_type": "markdown",
   "id": "0928a3cb",
   "metadata": {},
   "source": [
    "#### **7. Verify Cluster Assignments**"
   ]
  },
  {
   "cell_type": "code",
   "execution_count": null,
   "id": "f2d6850c",
   "metadata": {},
   "outputs": [],
   "source": [
    "yp[50:100]"
   ]
  },
  {
   "cell_type": "markdown",
   "id": "e243a1d5",
   "metadata": {},
   "source": [
    "#### **8. Add Clusters to the DataFrame**\n",
    "Add a `cluster` column to the DataFrame to analyze cluster assignments."
   ]
  },
  {
   "cell_type": "code",
   "execution_count": null,
   "id": "5639e96c",
   "metadata": {},
   "outputs": [],
   "source": [
    "df['cluster'] = yp\n",
    "df.head()"
   ]
  },
  {
   "cell_type": "markdown",
   "id": "0c397fa2",
   "metadata": {},
   "source": [
    "#### **9. Check Unique Clusters**\n",
    "Verify the unique clusters created by the algorithm."
   ]
  },
  {
   "cell_type": "code",
   "execution_count": null,
   "id": "cb713c50",
   "metadata": {},
   "outputs": [],
   "source": [
    "df.cluster.unique()"
   ]
  },
  {
   "cell_type": "markdown",
   "id": "94cae2ab",
   "metadata": {},
   "source": [
    "#### **10. Separate Clusters for Visualization**\n",
    "Create separate DataFrames for each cluster to plot them individually."
   ]
  },
  {
   "cell_type": "code",
   "execution_count": null,
   "id": "7253cced",
   "metadata": {},
   "outputs": [],
   "source": [
    "df1 = df[df.cluster == 0]\n",
    "df2 = df[df.cluster == 1]\n",
    "df3 = df[df.cluster == 2]"
   ]
  },
  {
   "cell_type": "markdown",
   "id": "d58bd1ff",
   "metadata": {},
   "source": [
    "#### **11. Visualize Clusters**\n",
    "Visualize the clusters using a scatter plot with `petal length` and `petal width`."
   ]
  },
  {
   "cell_type": "code",
   "execution_count": null,
   "id": "340ca483",
   "metadata": {},
   "outputs": [],
   "source": [
    "plt.scatter(df1['petal length (cm)'], df1['petal width (cm)'], color='blue', label='Cluster 0')\n",
    "plt.scatter(df2['petal length (cm)'], df2['petal width (cm)'], color='green', label='Cluster 1')\n",
    "plt.scatter(df3['petal length (cm)'], df3['petal width (cm)'], color='yellow', label='Cluster 2')\n",
    "plt.xlabel('Petal Length')\n",
    "plt.ylabel('Petal Width')\n",
    "plt.legend()\n",
    "plt.title('K-Means Clustering')"
   ]
  },
  {
   "cell_type": "markdown",
   "id": "9e09c3ed",
   "metadata": {},
   "source": [
    "### **Elbow Method for Optimal K**\n",
    "\n",
    "The Elbow Method is used to determine the optimal number of clusters by evaluating the Sum of Squared Errors (SSE) for different values of `k`. The point where SSE starts to diminish significantly is considered the optimal `k`. "
   ]
  },
  {
   "cell_type": "markdown",
   "id": "5f5089d2",
   "metadata": {},
   "source": [
    "#### **1. Calculate Sum of Squared Errors (SSE)**"
   ]
  },
  {
   "cell_type": "code",
   "execution_count": null,
   "id": "17888860",
   "metadata": {},
   "outputs": [],
   "source": [
    "sse = []\n",
    "k_rng = range(1, 10)\n",
    "for k in k_rng:\n",
    "    km = KMeans(n_clusters=k)\n",
    "    km.fit(df)\n",
    "    sse.append(km.inertia_)"
   ]
  },
  {
   "cell_type": "markdown",
   "id": "2586cb07",
   "metadata": {},
   "source": [
    "#### **2. Plot Elbow Curve**\n",
    "Visualize the SSE values for different numbers of clusters to identify the optimal `k`. "
   ]
  },
  {
   "cell_type": "code",
   "execution_count": null,
   "id": "84715b8c",
   "metadata": {},
   "outputs": [],
   "source": [
    "plt.xlabel('K')\n",
    "plt.ylabel('Sum of Squared Errors')\n",
    "plt.plot(k_rng, sse)\n",
    "plt.title('Elbow Method for Optimal K')"
   ]
  }
 ],
 "metadata": {
  "kernelspec": {
   "display_name": "devAI",
   "language": "python",
   "name": "python3"
  },
  "language_info": {
   "codemirror_mode": {
    "name": "ipython",
    "version": 3
   },
   "file_extension": ".py",
   "mimetype": "text/x-python",
   "name": "python",
   "nbconvert_exporter": "python",
   "pygments_lexer": "ipython3",
   "version": "3.12.5"
  }
 },
 "nbformat": 4,
 "nbformat_minor": 5
}
